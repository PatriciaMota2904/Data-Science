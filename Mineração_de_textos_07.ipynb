{
  "nbformat": 4,
  "nbformat_minor": 0,
  "metadata": {
    "kernelspec": {
      "display_name": "Python 3",
      "language": "python",
      "name": "python3"
    },
    "language_info": {
      "codemirror_mode": {
        "name": "ipython",
        "version": 3
      },
      "file_extension": ".py",
      "mimetype": "text/x-python",
      "name": "python",
      "nbconvert_exporter": "python",
      "pygments_lexer": "ipython3",
      "version": "3.6.5"
    },
    "colab": {
      "name": "Mineração_de_textos_07.ipynb",
      "provenance": []
    }
  },
  "cells": [
    {
      "cell_type": "markdown",
      "metadata": {
        "id": "qDdGC1_v-UWG"
      },
      "source": [
        ""
      ]
    },
    {
      "cell_type": "markdown",
      "metadata": {
        "id": "XI8maU8T-UWe"
      },
      "source": [
        "## **Análise de Sentimentos usando Machine Learning**"
      ]
    },
    {
      "cell_type": "markdown",
      "metadata": {
        "id": "f83fXsty-UWg"
      },
      "source": [
        "* Criando modelos para análise de sentimentos de tweets\n",
        "* Teste com Modelo usando tag de negações\n",
        "* Teste com Modelo usando Bigrams"
      ]
    },
    {
      "cell_type": "code",
      "metadata": {
        "id": "jjoLIvUE-UWi"
      },
      "source": [
        "from nltk import word_tokenize\n",
        "import nltk\n",
        "import re\n",
        "import pandas as pd\n",
        "from sklearn.feature_extraction.text import CountVectorizer\n",
        "from sklearn.naive_bayes import MultinomialNB\n",
        "from sklearn import metrics\n",
        "from sklearn.model_selection import cross_val_predict"
      ],
      "execution_count": 2,
      "outputs": []
    },
    {
      "cell_type": "code",
      "metadata": {
        "colab": {
          "base_uri": "https://localhost:8080/"
        },
        "id": "E8WYyUXzAZk4",
        "outputId": "4bbcbce4-53b5-4e3c-b881-c57c1025f50a"
      },
      "source": [
        "from google.colab import drive\n",
        "drive.mount('/content/drive')"
      ],
      "execution_count": 3,
      "outputs": [
        {
          "output_type": "stream",
          "name": "stdout",
          "text": [
            "Mounted at /content/drive\n"
          ]
        }
      ]
    },
    {
      "cell_type": "markdown",
      "metadata": {
        "id": "wVq86-Sr-UWm"
      },
      "source": [
        "**Ler arquivo de dados e conta a quantidade de linhas**"
      ]
    },
    {
      "cell_type": "code",
      "metadata": {
        "id": "yhMEEW4o-UWn"
      },
      "source": [
        "dataset = pd.read_csv('/content/drive/MyDrive/Colab Notebooks/Tweets_Mg.csv' )"
      ],
      "execution_count": 4,
      "outputs": []
    },
    {
      "cell_type": "markdown",
      "metadata": {
        "id": "z9Tk4ESK-UWr"
      },
      "source": [
        "**Exibe as 50 primeiras lihas de tweets**"
      ]
    },
    {
      "cell_type": "code",
      "metadata": {
        "id": "tUsXfbVI-UWv"
      },
      "source": [
        "dataset.head(50)"
      ],
      "execution_count": null,
      "outputs": []
    },
    {
      "cell_type": "markdown",
      "metadata": {
        "id": "CX9KcNhv-UWy"
      },
      "source": [
        "**Conta a quantidade de linhas de tweets neutros, positivos e negativos**"
      ]
    },
    {
      "cell_type": "code",
      "metadata": {
        "id": "-tgwusEV-UW0"
      },
      "source": [
        "dataset[dataset.Classificacao=='Neutro'].count()"
      ],
      "execution_count": null,
      "outputs": []
    },
    {
      "cell_type": "code",
      "metadata": {
        "id": "1i9UZaxw-UW2"
      },
      "source": [
        "dataset[dataset.Classificacao=='Positivo'].count()"
      ],
      "execution_count": null,
      "outputs": []
    },
    {
      "cell_type": "code",
      "metadata": {
        "id": "-MyWnlUZ-UW3"
      },
      "source": [
        "dataset[dataset.Classificacao=='Negativo'].count()"
      ],
      "execution_count": null,
      "outputs": []
    },
    {
      "cell_type": "code",
      "metadata": {
        "id": "_Ui4cOU4-UW4"
      },
      "source": [
        "%matplotlib inline\n",
        "dataset.Classificacao.value_counts().plot(kind='bar')"
      ],
      "execution_count": null,
      "outputs": []
    },
    {
      "cell_type": "code",
      "metadata": {
        "id": "Z09nRwh5-UW-"
      },
      "source": [
        "dataset.count()"
      ],
      "execution_count": null,
      "outputs": []
    },
    {
      "cell_type": "markdown",
      "metadata": {
        "id": "ZzuV9Cvj-UXB"
      },
      "source": [
        "## Pre-Processamento dos Dados"
      ]
    },
    {
      "cell_type": "markdown",
      "metadata": {
        "id": "Zz4B3HTY-UXC"
      },
      "source": [
        "* Remove linhas duplicadas na base de dados\n",
        "    - Problema na coleta dos dados.\n",
        "* Remove Stopwords\n",
        "* Faz Stemming nos dados\n",
        "* Remove caracteres indesejados como links, pontuação etc."
      ]
    },
    {
      "cell_type": "code",
      "metadata": {
        "id": "chZh86f3-UXD"
      },
      "source": [
        "dataset.drop_duplicates(['Text'], inplace=True)"
      ],
      "execution_count": null,
      "outputs": []
    },
    {
      "cell_type": "code",
      "metadata": {
        "id": "Z5wQ5EPs-UXD"
      },
      "source": [
        "dataset.Text.count()"
      ],
      "execution_count": null,
      "outputs": []
    },
    {
      "cell_type": "markdown",
      "metadata": {
        "id": "lcqW0ODs-UXE"
      },
      "source": [
        "## ** Separando tweets e suas Classes**"
      ]
    },
    {
      "cell_type": "code",
      "metadata": {
        "id": "HU75jYTl-UXF"
      },
      "source": [
        "tweets = dataset['Text']\n",
        "classes = dataset['Classificacao']"
      ],
      "execution_count": null,
      "outputs": []
    },
    {
      "cell_type": "markdown",
      "metadata": {
        "id": "wcQWw1ww-UXG"
      },
      "source": [
        "** Instala bibliotecas e baixa a base de dados**"
      ]
    },
    {
      "cell_type": "code",
      "metadata": {
        "id": "uq0r9V9r-UXH"
      },
      "source": [
        "import nltk\n",
        "nltk.download('stopwords')\n",
        "nltk.download('rslp')"
      ],
      "execution_count": null,
      "outputs": []
    },
    {
      "cell_type": "markdown",
      "metadata": {
        "id": "hHW7pPTn-UXI"
      },
      "source": [
        "**Funções de Pre-processamento de dados**"
      ]
    },
    {
      "cell_type": "code",
      "metadata": {
        "id": "sYIaBEYh-UXJ"
      },
      "source": [
        "def RemoveStopWords(instancia):\n",
        "    stopwords = set(nltk.corpus.stopwords.words('portuguese'))\n",
        "    palavras = [i for i in instancia.split() if not i in stopwords]\n",
        "    return (\" \".join(palavras))"
      ],
      "execution_count": null,
      "outputs": []
    },
    {
      "cell_type": "code",
      "metadata": {
        "id": "IReabl72-UXQ"
      },
      "source": [
        "def Stemming(instancia):\n",
        "    stemmer = nltk.stem.RSLPStemmer()\n",
        "    palavras = []\n",
        "    for w in instancia.split():\n",
        "        palavras.append(stemmer.stem(w))\n",
        "    return (\" \".join(palavras))"
      ],
      "execution_count": null,
      "outputs": []
    },
    {
      "cell_type": "code",
      "metadata": {
        "id": "8tlw8Ces-UXR"
      },
      "source": [
        "def Limpeza_dados(instancia):\n",
        "    # remove links, pontos, virgulas,ponto e virgulas dos tweets\n",
        "    instancia = re.sub(r\"http\\S+\", \"\", instancia).lower().replace('.','').replace(';','').replace('-','').replace(':','').replace(')','')\n",
        "    return (instancia)"
      ],
      "execution_count": null,
      "outputs": []
    },
    {
      "cell_type": "markdown",
      "metadata": {
        "id": "55-LQUzG-UXU"
      },
      "source": [
        "** Entenda como funciona cada função**"
      ]
    },
    {
      "cell_type": "code",
      "metadata": {
        "id": "ofEizPtY-UXV"
      },
      "source": [
        "RemoveStopWords('Eu não gosto do partido, e também não votaria novamente nesse governante!')"
      ],
      "execution_count": null,
      "outputs": []
    },
    {
      "cell_type": "code",
      "metadata": {
        "id": "KgIuLSVx-UXX"
      },
      "source": [
        "Stemming('Eu não gosto do partido, e também não votaria novamente nesse governante!')"
      ],
      "execution_count": null,
      "outputs": []
    },
    {
      "cell_type": "code",
      "metadata": {
        "id": "K7z12-pN-UXY"
      },
      "source": [
        "Limpeza_dados('Assita aqui o video do Governador falando sobre a CEMIG https://www.uol.com.br :) ;)')"
      ],
      "execution_count": null,
      "outputs": []
    },
    {
      "cell_type": "markdown",
      "metadata": {
        "id": "e6usRPD0-UXZ"
      },
      "source": [
        "** Aplica as 3 funções de Pre-processamento nos dados**"
      ]
    },
    {
      "cell_type": "code",
      "metadata": {
        "id": "UFkKXmkw-UXZ"
      },
      "source": [
        "def Preprocessing(instancia):\n",
        "    stemmer = nltk.stem.RSLPStemmer()\n",
        "    instancia = re.sub(r\"http\\S+\", \"\", instancia).lower().replace('.','').replace(';','').replace('-','').replace(':','').replace(')','')\n",
        "    stopwords = set(nltk.corpus.stopwords.words('portuguese'))\n",
        "    palavras = [stemmer.stem(i) for i in instancia.split() if not i in stopwords]\n",
        "    return (\" \".join(palavras))\n",
        "\n",
        "# Aplica a função em todos os dados:\n",
        "tweets = [Preprocessing(i) for i in tweets]"
      ],
      "execution_count": null,
      "outputs": []
    },
    {
      "cell_type": "code",
      "metadata": {
        "id": "NODZKNf1-UXd"
      },
      "source": [
        "Preprocessing('Eu não gosto do partido, e também não votaria novamente nesse governante. Assita o video aqui https:// :)')"
      ],
      "execution_count": null,
      "outputs": []
    },
    {
      "cell_type": "markdown",
      "metadata": {
        "id": "FVPNHxRR-UXg"
      },
      "source": [
        "**Visualize os dados e veja como ficou após o pré-processamento**"
      ]
    },
    {
      "cell_type": "code",
      "metadata": {
        "id": "iXAASWZ8-UXg"
      },
      "source": [
        "tweets[:50]"
      ],
      "execution_count": null,
      "outputs": []
    },
    {
      "cell_type": "markdown",
      "metadata": {
        "collapsed": true,
        "id": "R544CbK4-UXh"
      },
      "source": [
        "## Criando o modelo"
      ]
    },
    {
      "cell_type": "markdown",
      "metadata": {
        "id": "kzeQpWHr-UXh"
      },
      "source": [
        "**Instancia o objeto que faz a vetorização dos dados de texto**"
      ]
    },
    {
      "cell_type": "code",
      "metadata": {
        "id": "tDfdPv_a-UXi"
      },
      "source": [
        "vectorizer = CountVectorizer(analyzer=\"word\")"
      ],
      "execution_count": null,
      "outputs": []
    },
    {
      "cell_type": "markdown",
      "metadata": {
        "id": "fZWSz-PB-UXj"
      },
      "source": [
        "**Aplica o vetorizador nos dados de texto**"
      ]
    },
    {
      "cell_type": "code",
      "metadata": {
        "id": "dDQ-pj-q-UXj"
      },
      "source": [
        "freq_tweets = vectorizer.fit_transform(tweets)\n",
        "type(freq_tweets)"
      ],
      "execution_count": null,
      "outputs": []
    },
    {
      "cell_type": "code",
      "metadata": {
        "id": "TRRNLT9Z-UXk"
      },
      "source": [
        "modelo = MultinomialNB()\n",
        "modelo.fit(freq_tweets,classes)"
      ],
      "execution_count": null,
      "outputs": []
    },
    {
      "cell_type": "markdown",
      "metadata": {
        "id": "Z4EoNxJu-UXk"
      },
      "source": [
        "**Formato (Linhas, Colunas) da matriz**"
      ]
    },
    {
      "cell_type": "code",
      "metadata": {
        "id": "a8gwwzGk-UXl"
      },
      "source": [
        "freq_tweets.shape"
      ],
      "execution_count": null,
      "outputs": []
    },
    {
      "cell_type": "markdown",
      "metadata": {
        "id": "w_dsnkBR-UXl"
      },
      "source": [
        "**Matriz**"
      ]
    },
    {
      "cell_type": "code",
      "metadata": {
        "id": "ww4xmphi-UXm"
      },
      "source": [
        "freq_tweets.A"
      ],
      "execution_count": null,
      "outputs": []
    },
    {
      "cell_type": "markdown",
      "metadata": {
        "id": "3T0LxCVK-UXn"
      },
      "source": [
        "** Testando o modelo com algumas instâncias simples**"
      ]
    },
    {
      "cell_type": "code",
      "metadata": {
        "id": "Y-YwRf5s-UXn"
      },
      "source": [
        "# defina instâncias de teste dentro de uma lista\n",
        "testes = ['Esse governo está no início, vamos ver o que vai dar',\n",
        "          'Estou muito feliz com o governo de Minas esse ano',\n",
        "          'O estado de Minas Gerais decretou calamidade financeira!!!',\n",
        "          'A segurança desse país está deixando a desejar',\n",
        "          'O governador de Minas é mais uma vez do PT']"
      ],
      "execution_count": null,
      "outputs": []
    },
    {
      "cell_type": "markdown",
      "metadata": {
        "id": "HACkt8oV-UXo"
      },
      "source": [
        "**Aplica a função de Pré-processamento nos dados**"
      ]
    },
    {
      "cell_type": "code",
      "metadata": {
        "id": "jcHYrT5V-UXz"
      },
      "source": [
        "testes = [Preprocessing(i) for i in testes]"
      ],
      "execution_count": null,
      "outputs": []
    },
    {
      "cell_type": "code",
      "metadata": {
        "id": "It-B0PpA-UXz"
      },
      "source": [
        "# Transforma os dados de teste em vetores de palavras.\n",
        "freq_testes = vectorizer.transform(testes)"
      ],
      "execution_count": null,
      "outputs": []
    },
    {
      "cell_type": "code",
      "metadata": {
        "id": "8qQJGXzd-UX0"
      },
      "source": [
        "# Fazendo a classificação com o modelo treinado.\n",
        "for t, c in zip (testes,modelo.predict(freq_testes)):\n",
        "    print (t +\", \"+ c)"
      ],
      "execution_count": null,
      "outputs": []
    },
    {
      "cell_type": "code",
      "metadata": {
        "id": "70awwMUw-UX1"
      },
      "source": [
        "# Probabilidades de cada classe\n",
        "print (modelo.classes_)\n",
        "modelo.predict_proba(freq_testes).round(2)"
      ],
      "execution_count": null,
      "outputs": []
    },
    {
      "cell_type": "markdown",
      "metadata": {
        "id": "E_iJC8B1-UX2"
      },
      "source": [
        "## ** Função de Tags de Negações**"
      ]
    },
    {
      "cell_type": "markdown",
      "metadata": {
        "id": "kctxeAt0-UX2"
      },
      "source": [
        "* Acrescenta uma tag _NEG encontrada após um 'não'.\n",
        "* Objetivo é dar mais peso para o modelo identificar uma inversão de sentimento da frase.\n",
        "* Exemplos: \n",
        "    - Eu gosto de cachorros, positivo.\n",
        "    - Eu **não** gosto de cachorros, negativo."
      ]
    },
    {
      "cell_type": "code",
      "metadata": {
        "id": "ezVJwtLU-UX3"
      },
      "source": [
        "def marque_negacao(texto):\n",
        "    negacoes = ['não','not']\n",
        "    negacao_detectada = False\n",
        "    resultado = []\n",
        "    palavras = texto.split()\n",
        "    for p in palavras:\n",
        "        p = p.lower()\n",
        "        if negacao_detectada == True:\n",
        "            p = p + '_NEG'\n",
        "        if p in negacoes:\n",
        "            negacao_detectada = True\n",
        "        resultado.append(p)\n",
        "    return (\" \".join(resultado))"
      ],
      "execution_count": null,
      "outputs": []
    },
    {
      "cell_type": "markdown",
      "metadata": {
        "id": "bTZO4_zB-UX4"
      },
      "source": [
        "**Exemplos de utilização da tag de negações**"
      ]
    },
    {
      "cell_type": "code",
      "metadata": {
        "id": "5deEsqgo-UX4"
      },
      "source": [
        "marque_negacao('Eu gosto do partido, votaria novamente nesse governante!')"
      ],
      "execution_count": null,
      "outputs": []
    },
    {
      "cell_type": "code",
      "metadata": {
        "id": "E-X4CrdM-UX4"
      },
      "source": [
        "marque_negacao('Eu Não gosto do partido, e também não votaria novamente nesse governante!')"
      ],
      "execution_count": null,
      "outputs": []
    },
    {
      "cell_type": "markdown",
      "metadata": {
        "id": "5vihGzb0-UX5"
      },
      "source": [
        "## **Criando modelos com Pipelines**"
      ]
    },
    {
      "cell_type": "markdown",
      "metadata": {
        "id": "VKp6rQGc-UX5"
      },
      "source": [
        "* Pipelines são interessantes para reduzir código e automatizar fluxos"
      ]
    },
    {
      "cell_type": "code",
      "metadata": {
        "id": "TVlfTieu-UX6"
      },
      "source": [
        "from sklearn.pipeline import Pipeline"
      ],
      "execution_count": null,
      "outputs": []
    },
    {
      "cell_type": "code",
      "metadata": {
        "id": "InIZc8Ms-UX7"
      },
      "source": [
        "pipeline_simples = Pipeline([\n",
        "  ('counts', CountVectorizer()),\n",
        "  ('classifier', MultinomialNB())\n",
        "])"
      ],
      "execution_count": null,
      "outputs": []
    },
    {
      "cell_type": "markdown",
      "metadata": {
        "id": "S9QmTjNk-UX7"
      },
      "source": [
        "* Pipeline que atribui tag de negacoes nas palavras"
      ]
    },
    {
      "cell_type": "code",
      "metadata": {
        "id": "Jj-QFTUh-UX-"
      },
      "source": [
        "pipeline_negacoes = Pipeline([\n",
        "  ('counts', CountVectorizer(tokenizer=lambda text: marque_negacao(text))),\n",
        "  ('classifier', MultinomialNB())\n",
        "])"
      ],
      "execution_count": null,
      "outputs": []
    },
    {
      "cell_type": "code",
      "metadata": {
        "id": "IHjke0ET-UX-"
      },
      "source": [
        "pipeline_simples.fit(tweets,classes)"
      ],
      "execution_count": null,
      "outputs": []
    },
    {
      "cell_type": "code",
      "metadata": {
        "id": "jtd5UCzz-UX_"
      },
      "source": [
        "pipeline_simples.steps"
      ],
      "execution_count": null,
      "outputs": []
    },
    {
      "cell_type": "markdown",
      "metadata": {
        "id": "8G_rYQ1r-UYA"
      },
      "source": [
        "* Gera o modelo de negações"
      ]
    },
    {
      "cell_type": "code",
      "metadata": {
        "id": "h13S56tJ-UYA"
      },
      "source": [
        "pipeline_negacoes.fit(tweets,classes)"
      ],
      "execution_count": null,
      "outputs": []
    },
    {
      "cell_type": "markdown",
      "metadata": {
        "id": "3lQpYVWj-UYB"
      },
      "source": [
        "* Etapas do pipeline"
      ]
    },
    {
      "cell_type": "code",
      "metadata": {
        "id": "FfZm-_pa-UYB"
      },
      "source": [
        "pipeline_negacoes.steps"
      ],
      "execution_count": null,
      "outputs": []
    },
    {
      "cell_type": "markdown",
      "metadata": {
        "id": "7nKNOh4h-UYB"
      },
      "source": [
        "## Validando os Modelos com Validação Cruzada"
      ]
    },
    {
      "cell_type": "markdown",
      "metadata": {
        "collapsed": true,
        "id": "OUSVznQq-UYC"
      },
      "source": [
        "* Fazendo o cross validation do modelo"
      ]
    },
    {
      "cell_type": "code",
      "metadata": {
        "id": "CqL8MqnB-UYC"
      },
      "source": [
        "resultados = cross_val_predict(pipeline_simples, tweets, classes, cv=10)"
      ],
      "execution_count": null,
      "outputs": []
    },
    {
      "cell_type": "markdown",
      "metadata": {
        "collapsed": true,
        "id": "QeaW7OyS-UYC"
      },
      "source": [
        "* Medindo a acurácia média do modelo"
      ]
    },
    {
      "cell_type": "code",
      "metadata": {
        "id": "gdIwdhi_-UYD"
      },
      "source": [
        "metrics.accuracy_score(classes,resultados)"
      ],
      "execution_count": null,
      "outputs": []
    },
    {
      "cell_type": "markdown",
      "metadata": {
        "collapsed": true,
        "id": "r4MiRKVY-UYD"
      },
      "source": [
        "* Medidas de validação do modelo"
      ]
    },
    {
      "cell_type": "code",
      "metadata": {
        "id": "iQb25QOa-UYE"
      },
      "source": [
        "sentimento=['Positivo','Negativo','Neutro']\n",
        "print (metrics.classification_report(classes,resultados,sentimento))"
      ],
      "execution_count": null,
      "outputs": []
    },
    {
      "cell_type": "markdown",
      "metadata": {
        "id": "revGe0-G-UYE"
      },
      "source": [
        "* Matriz de confusão"
      ]
    },
    {
      "cell_type": "code",
      "metadata": {
        "id": "Vdjmaog3-UYE"
      },
      "source": [
        "print (pd.crosstab(classes, resultados, rownames=['Real'], colnames=['Predito'], margins=True))"
      ],
      "execution_count": null,
      "outputs": []
    },
    {
      "cell_type": "markdown",
      "metadata": {
        "id": "hDATez6P-UYF"
      },
      "source": [
        "## **Modelo com a Tag de Negações**"
      ]
    },
    {
      "cell_type": "code",
      "metadata": {
        "id": "6XdNmrRP-UYF"
      },
      "source": [
        "resultados = cross_val_predict(pipeline_negacoes, tweets, classes, cv=10)"
      ],
      "execution_count": null,
      "outputs": []
    },
    {
      "cell_type": "markdown",
      "metadata": {
        "id": "PhCfosm1-UYG"
      },
      "source": [
        "* Medindo a acurácia média do modelo"
      ]
    },
    {
      "cell_type": "code",
      "metadata": {
        "id": "onBHLqfL-UYG"
      },
      "source": [
        "metrics.accuracy_score(classes,resultados)"
      ],
      "execution_count": null,
      "outputs": []
    },
    {
      "cell_type": "code",
      "metadata": {
        "id": "T55XuqVn-UYH"
      },
      "source": [
        "sentimento=['Positivo','Negativo','Neutro']\n",
        "print (metrics.classification_report(classes,resultados,sentimento))"
      ],
      "execution_count": null,
      "outputs": []
    },
    {
      "cell_type": "markdown",
      "metadata": {
        "collapsed": true,
        "id": "kWah74w4-UYH"
      },
      "source": [
        "* Matriz de confusão"
      ]
    },
    {
      "cell_type": "code",
      "metadata": {
        "id": "Y9HqSBkF-UYI"
      },
      "source": [
        "print (pd.crosstab(classes, resultados, rownames=['Real'], colnames=['Predito'], margins=True))"
      ],
      "execution_count": null,
      "outputs": []
    },
    {
      "cell_type": "markdown",
      "metadata": {
        "id": "R5rnBhcF-UYI"
      },
      "source": [
        "## ** Avaliando modelo com Bigrams**"
      ]
    },
    {
      "cell_type": "code",
      "metadata": {
        "id": "yrFySGsO-UYI"
      },
      "source": [
        "'eu gosto', 'gosto do' , 'do brasil'"
      ],
      "execution_count": null,
      "outputs": []
    },
    {
      "cell_type": "code",
      "metadata": {
        "id": "aZoax9wq-UYJ"
      },
      "source": [
        "vectorizer = CountVectorizer(ngram_range=(1,2))\n",
        "freq_tweets = vectorizer.fit_transform(tweets)\n",
        "modelo = MultinomialNB()\n",
        "modelo.fit(freq_tweets,classes)"
      ],
      "execution_count": null,
      "outputs": []
    },
    {
      "cell_type": "code",
      "metadata": {
        "id": "IC9ef1qX-UYK"
      },
      "source": [
        "resultados = cross_val_predict(modelo, freq_tweets, classes, cv=10)"
      ],
      "execution_count": null,
      "outputs": []
    },
    {
      "cell_type": "code",
      "metadata": {
        "id": "72fYx2ZA-UYK"
      },
      "source": [
        "metrics.accuracy_score(classes,resultados)"
      ],
      "execution_count": null,
      "outputs": []
    },
    {
      "cell_type": "code",
      "metadata": {
        "id": "P-hTC9pL-UYS"
      },
      "source": [
        "sentimento=['Positivo','Negativo','Neutro']\n",
        "print (metrics.classification_report(classes,resultados,sentimento))"
      ],
      "execution_count": null,
      "outputs": []
    },
    {
      "cell_type": "code",
      "metadata": {
        "id": "vRmJnCRH-UYT"
      },
      "source": [
        "print (pd.crosstab(classes, resultados, rownames=['Real'], colnames=['Predito'], margins=True))"
      ],
      "execution_count": null,
      "outputs": []
    },
    {
      "cell_type": "markdown",
      "metadata": {
        "id": "O4FfJxax-UYU"
      },
      "source": [
        "## ** Considerações Finais**"
      ]
    },
    {
      "cell_type": "markdown",
      "metadata": {
        "id": "r4aFRBgH-UYU"
      },
      "source": [
        "* Considere aumentar a quantidade de dados de treino.\n",
        "\n",
        "* Pela sua simplicidade o Naive Bayes pode ser usado perfeitamente como um algoritmo de Baseline.\n",
        "\n",
        "* Considere alterar os parâmetros do algoritmo."
      ]
    },
    {
      "cell_type": "markdown",
      "metadata": {
        "id": "tJdbPSWW-UYV"
      },
      "source": [
        "**www.minerandodados.com.br** - *A maior comunidade de Data Science do Brasil*"
      ]
    }
  ]
}